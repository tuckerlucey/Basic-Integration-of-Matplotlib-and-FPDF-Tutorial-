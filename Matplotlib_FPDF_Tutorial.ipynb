{
 "cells": [
  {
   "cell_type": "markdown",
   "id": "fc5179bc",
   "metadata": {},
   "source": [
    "# Tutorial for Integrating Matplotlib and FPDF to Produce PDFs with Figures"
   ]
  },
  {
   "cell_type": "markdown",
   "id": "a22602a5",
   "metadata": {},
   "source": [
    "## Overview\n",
    "### The file contains data on fish discarded from a fishing vessel. For each discarded fish the length and weight was obtained. Let's generate a bar graph of the total discarded weight by species, then write that graph to a PDF.\n",
    "## Steps\n",
    "### 1. Import Libraries\n",
    "### 2. Read PDF as dataframe\n",
    "### 3. Interpret dataframe and assign variable to data.\n",
    "### 4. Conduct some basic arithmetic on dataframe.\n",
    "### 5. Generate a bar graph of the total discarded weight by species.\n",
    "### 6. Write graph to PDF."
   ]
  },
  {
   "cell_type": "markdown",
   "id": "b6c6f8da",
   "metadata": {},
   "source": [
    "### 1. Import Libraries"
   ]
  },
  {
   "cell_type": "code",
   "execution_count": 38,
   "id": "86e92584",
   "metadata": {},
   "outputs": [],
   "source": [
    "import os\n",
    "# Pandas will be used to convert .csv file data to a dataframe.\n",
    "import pandas as pd\n",
    "# Datetime for converting time to a datetime data type.\n",
    "import datetime\n",
    "# Matplotlib for generating figures.\n",
    "from matplotlib import pyplot as plt\n",
    "# FPDF is used to write text and figures to PDF.\n",
    "from fpdf import FPDF"
   ]
  },
  {
   "cell_type": "markdown",
   "id": "6bbe3506",
   "metadata": {},
   "source": [
    "### 2. Read PDF as dataframe"
   ]
  },
  {
   "cell_type": "code",
   "execution_count": 39,
   "id": "1674bd84",
   "metadata": {},
   "outputs": [],
   "source": [
    "# Read .csv file as panda dataframe. \n",
    "# Using this method the .csv file must be in the same folder as the .ipynb file which contains this script.\n",
    "csv = pd.read_csv('SampleData.csv')"
   ]
  },
  {
   "cell_type": "markdown",
   "id": "c115f960",
   "metadata": {},
   "source": [
    "### 3. Interpret dataframe and assign variable to data."
   ]
  },
  {
   "cell_type": "code",
   "execution_count": 40,
   "id": "40c1f751",
   "metadata": {},
   "outputs": [],
   "source": [
    "# Sort the 'Species' column of the .csv file by species.\n",
    "plaiceflounder = csv[csv['Species'] == ('American Plaice(FLDAB)')]\n",
    "witchflounder = csv[csv['Species'] == ('Witch Flounder(FLGS)')]\n",
    "haddock = csv[csv['Species'] == ('Haddock(HADD)')]"
   ]
  },
  {
   "cell_type": "markdown",
   "id": "a61ac674",
   "metadata": {},
   "source": [
    "### 4. Conduct some basic arithmetic on dataframe."
   ]
  },
  {
   "cell_type": "code",
   "execution_count": 41,
   "id": "5dc0054a",
   "metadata": {},
   "outputs": [],
   "source": [
    "# Take the total weight of each species.\n",
    "plaicefloundertotalweight = plaiceflounder['Estimated weight'].sum()\n",
    "witchfloundertotalweight = plaiceflounder['Estimated weight'].sum()\n",
    "haddocktotalweight = haddock['Estimated weight'].sum()\n",
    "# Assign 'labels' and 'weights' to be used for graph elements.\n",
    "labels = 'American Plaice Flounder', 'Witch Flounder','Haddock'\n",
    "weights = [plaicefloundertotalweight, witchfloundertotalweight, haddocktotalweight]"
   ]
  },
  {
   "cell_type": "markdown",
   "id": "149c0c83",
   "metadata": {},
   "source": [
    "### 5. Generate a bar graph of the total discarded weight by species."
   ]
  },
  {
   "cell_type": "code",
   "execution_count": 45,
   "id": "0215bda3",
   "metadata": {},
   "outputs": [
    {
     "data": {
      "image/png": "[encoded data removed]",
      "text/plain": [
       "<Figure size 432x432 with 1 Axes>"
      ]
     },
     "metadata": {
      "needs_background": "light"
     },
     "output_type": "display_data"
    }
   ],
   "source": [
    "# Generate bar graph with matplotlib.\n",
    "# Define figure size.\n",
    "plt.figure(figsize=(6,6))\n",
    "# Create bar graph. Choose 'labels' as x-axis, and 'weights' as y-axis. Choose color.\n",
    "plt.bar(labels, weights, color='red')\n",
    "# Choose title for graph. Define location of title with 'loc = ***'\n",
    "plt.title('Total Weight by Species', loc='center')\n",
    "# Choose label for x-axis.\n",
    "plt.xlabel('Groundfish Species')\n",
    "# Rotate x-axis labels to prevent overlap. 'rotation' sets the angle of the text.\n",
    "#'rotation_mode' sets the point of rotation of the text. 'ha' sets the horizontal allignment of the text.\n",
    "plt.xticks(rotation=45, rotation_mode='anchor', ha='right')\n",
    "# Choose label for the y-axis.\n",
    "plt.ylabel('Weight (lbs)')\n",
    "# Save the figure. Set bounding box to 'tight'.\n",
    "plt.savefig('BarGraph.png', bbox_inches='tight')\n",
    "# Display graph.\n",
    "plt.show()"
   ]
  },
  {
   "cell_type": "markdown",
   "id": "5286ff15",
   "metadata": {},
   "source": [
    "### 6. Write graph to PDF."
   ]
  },
  {
   "cell_type": "code",
   "execution_count": 49,
   "id": "274f8ec1",
   "metadata": {},
   "outputs": [
    {
     "data": {
      "text/plain": [
       "''"
      ]
     },
     "execution_count": 49,
     "metadata": {},
     "output_type": "execute_result"
    }
   ],
   "source": [
    "# Create PDF.\n",
    "pdf = FPDF()\n",
    "# Add page to PDF.\n",
    "pdf.add_page()\n",
    "# Set font and text size for all following text cells.\n",
    "pdf.set_font(\"Arial\", size = 16)\n",
    "# Write text. Everything between parentheses following 'txt =' will be printed as text on the PDF. \n",
    "# \"align =\" can be used position text.\n",
    "pdf.cell(200, 10, txt = \"Sample Data\", ln = 1, align = 'C')\n",
    "# Insert image into PDF.\n",
    "pdf.image(\"C:\\\\Users\\\\tucke\\\\Downloads\\\\BarGraph.png\")\n",
    "# Save PDF.\n",
    "pdf.output('SampleData.pdf')"
   ]
  },
  {
   "cell_type": "markdown",
   "id": "3908b60d",
   "metadata": {},
   "source": [
    "## Conclusion\n",
    "### This is the basic format for generating figures with matplotlib and adding those figures to a PDF. This same method can be used to add any images to a PDF as well as write text to a PDF."
   ]
  },
  {
   "cell_type": "code",
   "execution_count": null,
   "id": "50487bac",
   "metadata": {},
   "outputs": [],
   "source": []
  }
 ],
 "metadata": {
  "kernelspec": {
   "display_name": "Python 3",
   "language": "python",
   "name": "python3"
  },
  "language_info": {
   "codemirror_mode": {
    "name": "ipython",
    "version": 3
   },
   "file_extension": ".py",
   "mimetype": "text/x-python",
   "name": "python",
   "nbconvert_exporter": "python",
   "pygments_lexer": "ipython3",
   "version": "3.8.8"
  }
 },
 "nbformat": 4,
 "nbformat_minor": 5
}
